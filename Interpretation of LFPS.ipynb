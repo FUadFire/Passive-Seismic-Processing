#for library to help a LFPS Interpretation
!pip install scikit-learn
!pip install xlrd

import pandas as pd
import numpy as np
import matplotlib.pyplot as plt
import seaborn as sns
import json
import datetime as dt
import tkinter as tk
import warnings
from tkinter import filedialog
from datetime import datetime, date,timedelta
warnings.filterwarnings('ignore')
import gdown

#for machine learning modelling
from sklearn.model_selection import train_test_split
from sklearn.linear_model import LinearRegression
from sklearn.metrics import r2_score

# Set plot style for consistency
sns.set(style='whitegrid', palette='muted', font_scale=1.2)

root = tk.Tk()
root.withdraw()  # Hide the root window

file_path = filedialog.askopenfilename()
print("Selected file:", file_path)

# Then open/read this file normally
with open(file_path, 'rb') as f:
    data = f.read()

data = pd.DataFrame(pd.read_excel('E:/Atribut LFPS.xls'))
data

data.info()

from sklearn.cluster import KMeans                                             # to perform the k-means algorithm
from sklearn.preprocessing import MinMaxScaler,StandardScaler,RobustScaler     # to sacalling different attribute
from sklearn import cluster                                                    # for machine learning and statistical modelling (we use it for clustering)

import matplotlib.cm as cm                                                     # provide a large set of colormaps(cm)
from sklearn.metrics import silhouette_samples, silhouette_score               # for perform silhoutte analysis
from sklearn.datasets import make_blobs                                        # Generate isotropic Gaussian blobs for clustering

data_clustering = data_copy.copy()
data_clustering.info()

data_clustering = data_clustering.drop(['X (meter)','Y (meter)'], axis=1)
data_clustering.info()

data_clustering = data_clustering.select_dtypes(include='number').copy()
data_clustering.head()

sns.pairplot(data_clustering)
